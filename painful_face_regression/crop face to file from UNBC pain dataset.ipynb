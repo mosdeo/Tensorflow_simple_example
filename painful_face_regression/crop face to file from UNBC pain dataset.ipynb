{
 "cells": [
  {
   "cell_type": "code",
   "execution_count": 1,
   "metadata": {
    "collapsed": true
   },
   "outputs": [],
   "source": [
    "import matplotlib.image as mp_image\n",
    "import matplotlib.pyplot as plt\n",
    "import subprocess\n",
    "import numpy as np\n",
    "import cv2\n",
    "from functools import partial"
   ]
  },
  {
   "cell_type": "code",
   "execution_count": 2,
   "metadata": {},
   "outputs": [
    {
     "name": "stdout",
     "output_type": "stream",
     "text": [
      "count = 48398\n"
     ]
    }
   ],
   "source": [
    "# 讀取目錄底下所有檔案絕對路徑\n",
    "paths_painful_image = subprocess.getoutput('find \"/tmp/PainImageSet/Images/\" -type f -not -name \".*\"').split('\\n')\n",
    "print(\"count = {}\".format(+len(paths_painful_image)))"
   ]
  },
  {
   "cell_type": "code",
   "execution_count": 3,
   "metadata": {
    "collapsed": true
   },
   "outputs": [],
   "source": [
    "def extract_filename(full_name, filename_extension):\n",
    "    return full_name.split(sep=\".\"+filename_extension)[0].split(sep='/')[-1]\n",
    "\n",
    "extract_png_filename = partial(extract_filename, filename_extension='png')"
   ]
  },
  {
   "cell_type": "code",
   "execution_count": 4,
   "metadata": {
    "collapsed": true
   },
   "outputs": [],
   "source": [
    "# ---- FOR DOUBLE CHECK, NOT REQUIRE ----\n",
    "# import pandas as pd    \n",
    "# list_filename = [i for i in map(extract_png_filename, paths_painful_image)]\n",
    "# df = pd.read_csv('UNBC_pain_score_table.csv')\n",
    "# set(list_filename).difference(df.file_name.unique())"
   ]
  },
  {
   "cell_type": "code",
   "execution_count": 5,
   "metadata": {
    "collapsed": true
   },
   "outputs": [],
   "source": [
    "# 人臉辨識分類器初始化\n",
    "face_cascade = cv2.CascadeClassifier('../haarcascades/haarcascade_frontalface_alt2.xml')\n",
    "assert not face_cascade.empty(), '發生錯誤：人臉辨識模型沒有成功載入'"
   ]
  },
  {
   "cell_type": "code",
   "execution_count": 43,
   "metadata": {},
   "outputs": [
    {
     "name": "stderr",
     "output_type": "stream",
     "text": [
      "/home/lky/anaconda3/lib/python3.6/site-packages/ipykernel_launcher.py:13: DeprecationWarning: elementwise != comparison failed; this will raise an error in the future.\n",
      "  del sys.path[0]\n"
     ]
    },
    {
     "ename": "KeyboardInterrupt",
     "evalue": "",
     "output_type": "error",
     "traceback": [
      "\u001b[0;31m---------------------------------------------------------------------------\u001b[0m",
      "\u001b[0;31mKeyboardInterrupt\u001b[0m                         Traceback (most recent call last)",
      "\u001b[0;32m<ipython-input-43-b69c269fac18>\u001b[0m in \u001b[0;36m<module>\u001b[0;34m()\u001b[0m\n\u001b[1;32m      6\u001b[0m     \u001b[0mimg\u001b[0m \u001b[0;34m=\u001b[0m \u001b[0mcv2\u001b[0m\u001b[0;34m.\u001b[0m\u001b[0mimread\u001b[0m\u001b[0;34m(\u001b[0m\u001b[0mimg_fullname\u001b[0m\u001b[0;34m)\u001b[0m\u001b[0;34m\u001b[0m\u001b[0m\n\u001b[1;32m      7\u001b[0m     \u001b[0mimg\u001b[0m \u001b[0;34m=\u001b[0m \u001b[0mcv2\u001b[0m\u001b[0;34m.\u001b[0m\u001b[0mcvtColor\u001b[0m\u001b[0;34m(\u001b[0m\u001b[0mimg\u001b[0m\u001b[0;34m,\u001b[0m \u001b[0mcv2\u001b[0m\u001b[0;34m.\u001b[0m\u001b[0mCOLOR_BGR2RGB\u001b[0m\u001b[0;34m)\u001b[0m\u001b[0;34m\u001b[0m\u001b[0m\n\u001b[0;32m----> 8\u001b[0;31m     _faces = face_cascade.detectMultiScale(img, 1.1, 3\n\u001b[0m\u001b[1;32m      9\u001b[0m \u001b[0;31m#                                            ,minSize = (70, 70)\u001b[0m\u001b[0;34m\u001b[0m\u001b[0;34m\u001b[0m\u001b[0m\n\u001b[1;32m     10\u001b[0m                                           )\n",
      "\u001b[0;31mKeyboardInterrupt\u001b[0m: "
     ]
    }
   ],
   "source": [
    "# 對 PainImageSubset 辨識人臉看成功率\n",
    "faces = ()\n",
    "iterated_img_count = 0\n",
    "have_face_img_count = 0\n",
    "for img_fullname in paths_painful_image:\n",
    "    iterated_img_count += 1\n",
    "    img = cv2.imread(img_fullname)\n",
    "    cv2.cvtColor(img, cv2.COLOR_BGR2RGB, img)\n",
    "    _faces = face_cascade.detectMultiScale(img, 1.1, 3\n",
    "                                           ,minSize = (96, 96))\n",
    "    # 如果有偵測到臉\n",
    "    if(() != _faces):\n",
    "        have_face_img_count += 1\n",
    "        for (x,y,w,h) in _faces:\n",
    "            img_face_region = img[y:y+h, x:x+w] # 只留 ROI            \n",
    "            plt.imsave(\n",
    "                fname = '/tmp/crop_face_from_UNBC_pain/{}.png'.format(extract_png_filename(img_fullname))\n",
    "                ,arr = img_face_region )\n",
    "    else:\n",
    "        print(\"{} - {} = {}, {}\".format(\n",
    "                iterated_img_count, have_face_img_count, iterated_img_count - have_face_img_count,\n",
    "                img_fullname))\n",
    "\n",
    "print(\"face detect result: {}/{}, {}\".\n",
    "      format(have_face_img_count, len(paths_painful_image), have_face_img_count/len(paths_painful_image)))"
   ]
  }
 ],
 "metadata": {
  "kernelspec": {
   "display_name": "Python 3",
   "language": "python",
   "name": "python3"
  },
  "language_info": {
   "codemirror_mode": {
    "name": "ipython",
    "version": 3
   },
   "file_extension": ".py",
   "mimetype": "text/x-python",
   "name": "python",
   "nbconvert_exporter": "python",
   "pygments_lexer": "ipython3",
   "version": "3.6.2"
  }
 },
 "nbformat": 4,
 "nbformat_minor": 2
}
