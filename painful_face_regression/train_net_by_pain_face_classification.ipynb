{
 "cells": [
  {
   "cell_type": "code",
   "execution_count": 1,
   "metadata": {
    "collapsed": true
   },
   "outputs": [],
   "source": [
    "import matplotlib.image as mp_image\n",
    "import matplotlib.pyplot as plt\n",
    "import subprocess\n",
    "import numpy as np\n",
    "import pandas as pd\n",
    "import tensorflow as tf\n",
    "import cv2\n",
    "from functools import partial\n",
    "sess = tf.Session()"
   ]
  },
  {
   "cell_type": "code",
   "execution_count": 2,
   "metadata": {
    "collapsed": true
   },
   "outputs": [],
   "source": [
    "def extract_filename(full_name, filename_extension):\n",
    "    return full_name.split(sep=\".\"+filename_extension)[0].split(sep='/')[-1]\n",
    "\n",
    "extract_png_filename = partial(extract_filename, filename_extension='png')"
   ]
  },
  {
   "cell_type": "markdown",
   "metadata": {},
   "source": [
    "## 讀取訓練資料到陣列"
   ]
  },
  {
   "cell_type": "code",
   "execution_count": 3,
   "metadata": {
    "collapsed": true
   },
   "outputs": [],
   "source": [
    "# ground truth\n",
    "df_UNBC_pain_score = pd.read_csv('./UNBC_pain_score_table.csv') # 讀取疼痛分數資料\n",
    "df_UNBC_pain_score.sort_values(by=['PSPI'], ascending=False, inplace=True) # 高分排前面\n",
    "df_UNBC_pain_score.reset_index(drop=True, inplace=True) # 更新 index"
   ]
  },
  {
   "cell_type": "code",
   "execution_count": 4,
   "metadata": {},
   "outputs": [
    {
     "name": "stdout",
     "output_type": "stream",
     "text": [
      "count = 46376\n"
     ]
    }
   ],
   "source": [
    "# feed training data\n",
    "\n",
    "# 建構檔案路徑\n",
    "# croped_face_folder = '../datalake/crop_face_from_UNBC_pain/'\n",
    "file_ext = '.png'\n",
    "# 讀取目錄底下所有檔案絕對路徑\n",
    "paths_croped_face_img = subprocess.getoutput('find ../datalake/crop_face_from_UNBC_pain/ -type f -name \"*.png\"').split('\\n')\n",
    "print(\"count = {}\".format(+len(paths_croped_face_img)))\n",
    "# paths_croped_face_img"
   ]
  },
  {
   "cell_type": "code",
   "execution_count": 5,
   "metadata": {
    "collapsed": true
   },
   "outputs": [],
   "source": [
    "# 只使用有被偵測到臉的\n",
    "df_croped_face_img = pd.DataFrame(\n",
    "                        data = {'full_name':paths_croped_face_img, \n",
    "                                'file_name':[i for i in map(extract_png_filename, paths_croped_face_img)]})"
   ]
  },
  {
   "cell_type": "code",
   "execution_count": 6,
   "metadata": {},
   "outputs": [
    {
     "name": "stdout",
     "output_type": "stream",
     "text": [
      "46376\n"
     ]
    }
   ],
   "source": [
    "# 合併檔案路徑表和分數表，之後只用這張表，清空不必要變數\n",
    "df_croped_face_img = df_croped_face_img.merge(right=df_UNBC_pain_score, on='file_name', how='inner')\n",
    "paths_croped_face_img = []\n",
    "df_UNBC_pain_score = []\n",
    "print(df_croped_face_img.index.size)"
   ]
  },
  {
   "cell_type": "code",
   "execution_count": 7,
   "metadata": {
    "collapsed": true
   },
   "outputs": [],
   "source": [
    "# 把臉部 ROI 轉化成可以直接輸入 nn 的 vector\n",
    "def rect_img_to_input_vector(raw_img):\n",
    "    import skimage\n",
    "    gray_img = cv2.cvtColor(raw_img, cv2.COLOR_BGR2GRAY) #轉灰\n",
    "#     gray_img = cv2.equalizeHist(gray_img) #亮度正規化\n",
    "    norm_size_img = cv2.resize(gray_img,(128, 128)) #統一尺寸\n",
    "    max_pooling_img = skimage.measure.block_reduce(norm_size_img, (4,4), np.max) #最大池化\n",
    "    reshape_img = np.reshape(max_pooling_img, [-1]) #拉平\n",
    "    return reshape_img"
   ]
  },
  {
   "cell_type": "code",
   "execution_count": 8,
   "metadata": {
    "collapsed": true
   },
   "outputs": [],
   "source": [
    "# 讀取影像函式\n",
    "def read_dataset(list_data_path):\n",
    "    import skimage.measure\n",
    "    dataset = []\n",
    "    read_fail_set = []\n",
    "    print(\"read img {:5d}, {}\".format(len(dataset), subprocess.getoutput('date')))\n",
    "    #-------------------------------------------------------------------\n",
    "    for img_full_name in list_data_path:\n",
    "        try:\n",
    "            raw_img = cv2.imread(img_full_name)\n",
    "        except:\n",
    "            read_fail_set.append(img_full_name)\n",
    "            print(img_full_name, len(read_fail_set))\n",
    "\n",
    "        dataset.append(rect_img_to_input_vector(raw_img)) #push in list\n",
    "\n",
    "        if(0 == len(dataset)%5000):\n",
    "            print(\"read img {:5d}, {}\".format(len(dataset), subprocess.getoutput('date')))\n",
    "    #-------------------------------------------------------------------\n",
    "    print(\"read img {:5d}, {}\".format(len(dataset), subprocess.getoutput('date')))\n",
    "    return dataset"
   ]
  },
  {
   "cell_type": "markdown",
   "metadata": {},
   "source": [
    "## 分類用資料編碼"
   ]
  },
  {
   "cell_type": "code",
   "execution_count": 9,
   "metadata": {},
   "outputs": [],
   "source": [
    "# 產生 one-hot labels\n",
    "PSPI_one_hot = tf.Session().run(\n",
    "                    tf.one_hot(indices=df_croped_face_img['PSPI'].values, # 被 one-hot data\n",
    "                    depth = len(df_croped_face_img['PSPI'].unique()), # 取集合大小\n",
    "                    dtype = tf.int32))\n",
    "df_croped_face_img['PSPI_one_hot'] = pd.Series(PSPI_one_hot.tolist())"
   ]
  },
  {
   "cell_type": "code",
   "execution_count": 10,
   "metadata": {},
   "outputs": [
    {
     "data": {
      "text/plain": [
       "16"
      ]
     },
     "execution_count": 10,
     "metadata": {},
     "output_type": "execute_result"
    }
   ],
   "source": [
    "len(df_croped_face_img['PSPI_one_hot'][0])\n"
   ]
  },
  {
   "cell_type": "markdown",
   "metadata": {},
   "source": [
    "## 分割預備"
   ]
  },
  {
   "cell_type": "code",
   "execution_count": 11,
   "metadata": {
    "collapsed": true
   },
   "outputs": [],
   "source": [
    "# shuffle\n",
    "df_croped_face_img = df_croped_face_img.reindex(index = np.random.permutation(df_croped_face_img.index))"
   ]
  },
  {
   "cell_type": "code",
   "execution_count": 12,
   "metadata": {
    "collapsed": true
   },
   "outputs": [],
   "source": [
    "# 只以 PSPI 排序\n",
    "df_croped_face_img.sort_values(by=['PSPI'], ascending=False, inplace=True)"
   ]
  },
  {
   "cell_type": "code",
   "execution_count": 13,
   "metadata": {
    "collapsed": true
   },
   "outputs": [],
   "source": [
    "# 重新給 index，不留原本的 index\n",
    "df_croped_face_img.reset_index(inplace=True, drop=True)"
   ]
  },
  {
   "cell_type": "markdown",
   "metadata": {},
   "source": [
    "## 分割 [ 訓練集 , 測試集 ]"
   ]
  },
  {
   "cell_type": "code",
   "execution_count": 14,
   "metadata": {
    "collapsed": true
   },
   "outputs": [],
   "source": [
    "# 雙數抽樣(訓練集)\n",
    "df_croped_face_img_training = df_croped_face_img.iloc[[i for i in df_croped_face_img.index if i&1==0 ],:]\n",
    "\n",
    "# 單數抽樣(測試集)\n",
    "df_croped_face_img_validation = df_croped_face_img.iloc[[i for i in df_croped_face_img.index if i&1==1 ],:]"
   ]
  },
  {
   "cell_type": "markdown",
   "metadata": {},
   "source": [
    "## 讀取資料集影像內容"
   ]
  },
  {
   "cell_type": "code",
   "execution_count": 15,
   "metadata": {},
   "outputs": [
    {
     "name": "stdout",
     "output_type": "stream",
     "text": [
      "read img     0, Fri Sep  8 21:19:54 CST 2017\n",
      "read img  5000, Fri Sep  8 21:20:07 CST 2017\n",
      "read img 10000, Fri Sep  8 21:20:20 CST 2017\n",
      "read img 15000, Fri Sep  8 21:20:34 CST 2017\n",
      "read img 20000, Fri Sep  8 21:20:47 CST 2017\n",
      "read img 23188, Fri Sep  8 21:20:56 CST 2017\n",
      "read img     0, Fri Sep  8 21:20:56 CST 2017\n",
      "read img  5000, Fri Sep  8 21:21:08 CST 2017\n",
      "read img 10000, Fri Sep  8 21:21:22 CST 2017\n",
      "read img 15000, Fri Sep  8 21:21:35 CST 2017\n",
      "read img 20000, Fri Sep  8 21:21:48 CST 2017\n",
      "read img 23188, Fri Sep  8 21:21:57 CST 2017\n"
     ]
    }
   ],
   "source": [
    "training_img_raw_dataset = read_dataset(df_croped_face_img_training['full_name'])\n",
    "validation_img_raw_dataset = read_dataset(df_croped_face_img_validation['full_name'])"
   ]
  },
  {
   "cell_type": "code",
   "execution_count": 16,
   "metadata": {},
   "outputs": [
    {
     "name": "stdout",
     "output_type": "stream",
     "text": [
      "Fri Sep  8 21:21:58 CST 2017\n"
     ]
    }
   ],
   "source": [
    "# 對資料集正規化\n",
    "## 正規化的單位並不是一張影像，而是一個位置，所以是對每一張影像的同一個位置的像素正規化\n",
    "from sklearn import preprocessing\n",
    "training_img_dataset = preprocessing.minmax_scale(training_img_raw_dataset,(-0.9, 0.9))\n",
    "validation_img_dataset = preprocessing.minmax_scale(validation_img_raw_dataset,(-0.9, 0.9))\n",
    "print(\"{}\".format(subprocess.getoutput('date')))"
   ]
  },
  {
   "cell_type": "markdown",
   "metadata": {},
   "source": [
    "## Neural Network construct"
   ]
  },
  {
   "cell_type": "code",
   "execution_count": 17,
   "metadata": {
    "collapsed": true
   },
   "outputs": [],
   "source": [
    "# 建構神經網路\n",
    "\n",
    "# 單層建構函式\n",
    "def make_layer(inputs, in_size, out_size, activation_function=None):\n",
    "    Weights = tf.Variable(tf.random_normal([in_size, out_size]))\n",
    "    biases = tf.Variable(tf.zeros([1, out_size]) + 0.1)\n",
    "    Wx_plus_b = tf.add(tf.matmul(inputs, Weights), biases)\n",
    "    if activation_function is None:\n",
    "        outputs = Wx_plus_b\n",
    "    else:\n",
    "        outputs = activation_function(Wx_plus_b)\n",
    "    return outputs\n",
    "\n",
    "in_size = 32*32\n",
    "out_size = len(df_croped_face_img['PSPI'].unique())\n",
    "\n",
    "# 定義輸出入變數\n",
    "xs = tf.placeholder(tf.float32, [None, in_size])\n",
    "ys = tf.placeholder(tf.float32, [None, out_size])\n",
    "\n",
    "# 定義多層流程\n",
    "layer_hidden_1 = make_layer(xs, in_size, 32, activation_function = tf.nn.tanh)\n",
    "layer_output   = make_layer(layer_hidden_1, 32, out_size) "
   ]
  },
  {
   "cell_type": "code",
   "execution_count": 18,
   "metadata": {
    "collapsed": true
   },
   "outputs": [],
   "source": [
    "# 定義損失函數\n",
    "loss = tf.reduce_mean(tf.nn.softmax_cross_entropy_with_logits(logits=layer_output, labels=ys))"
   ]
  },
  {
   "cell_type": "code",
   "execution_count": 19,
   "metadata": {
    "collapsed": true
   },
   "outputs": [],
   "source": [
    "# 定義學習方法\n",
    "learning_rate = 0.005\n",
    "momentum = 0.01\n",
    "train_step = tf.train.MomentumOptimizer(learning_rate, momentum).minimize(loss)"
   ]
  },
  {
   "cell_type": "code",
   "execution_count": 92,
   "metadata": {
    "collapsed": true
   },
   "outputs": [],
   "source": [
    "# 變數初始化\n",
    "init = tf.global_variables_initializer()\n",
    "sess = tf.Session()\n",
    "sess.run(init)"
   ]
  },
  {
   "cell_type": "markdown",
   "metadata": {},
   "source": [
    "# Training"
   ]
  },
  {
   "cell_type": "code",
   "execution_count": 93,
   "metadata": {},
   "outputs": [
    {
     "name": "stdout",
     "output_type": "stream",
     "text": [
      "epoch = None, cost = 12.335647583007812, Fri Sep  8 21:50:15 CST 2017\n",
      "epoch = 0, cost = 0.6528972387313843, Fri Sep  8 21:50:28 CST 2017\n",
      "epoch = 1, cost = 0.5503795742988586, Fri Sep  8 21:50:42 CST 2017\n",
      "epoch = 2, cost = 0.5048807859420776, Fri Sep  8 21:50:55 CST 2017\n",
      "epoch = 3, cost = 0.4634314775466919, Fri Sep  8 21:51:09 CST 2017\n",
      "epoch = 4, cost = 0.431471586227417, Fri Sep  8 21:51:23 CST 2017\n",
      "epoch = 5, cost = 0.41231995820999146, Fri Sep  8 21:51:36 CST 2017\n",
      "epoch = 6, cost = 0.39371389150619507, Fri Sep  8 21:51:50 CST 2017\n",
      "epoch = 7, cost = 0.3744477927684784, Fri Sep  8 21:52:03 CST 2017\n",
      "epoch = 8, cost = 0.3647775948047638, Fri Sep  8 21:52:17 CST 2017\n",
      "epoch = 9, cost = 0.35833367705345154, Fri Sep  8 21:52:31 CST 2017\n",
      "epoch = 10, cost = 0.34131482243537903, Fri Sep  8 21:52:44 CST 2017\n",
      "epoch = 11, cost = 0.3335024416446686, Fri Sep  8 21:52:58 CST 2017\n",
      "epoch = 12, cost = 0.3211800754070282, Fri Sep  8 21:53:12 CST 2017\n",
      "epoch = 13, cost = 0.3111186623573303, Fri Sep  8 21:53:25 CST 2017\n",
      "epoch = 14, cost = 0.302293598651886, Fri Sep  8 21:53:39 CST 2017\n",
      "epoch = 15, cost = 0.30985602736473083, Fri Sep  8 21:53:53 CST 2017\n",
      "epoch = 16, cost = 0.2928035855293274, Fri Sep  8 21:54:06 CST 2017\n",
      "epoch = 17, cost = 0.2870788872241974, Fri Sep  8 21:54:20 CST 2017\n",
      "epoch = 18, cost = 0.27585405111312866, Fri Sep  8 21:54:33 CST 2017\n",
      "epoch = 19, cost = 0.2780221998691559, Fri Sep  8 21:54:47 CST 2017\n",
      "epoch = 20, cost = 0.2690070867538452, Fri Sep  8 21:55:00 CST 2017\n",
      "epoch = 21, cost = 0.2620411515235901, Fri Sep  8 21:55:14 CST 2017\n",
      "epoch = 22, cost = 0.2661817669868469, Fri Sep  8 21:55:28 CST 2017\n",
      "epoch = 23, cost = 0.2504114508628845, Fri Sep  8 21:55:41 CST 2017\n",
      "epoch = 24, cost = 0.25088614225387573, Fri Sep  8 21:55:55 CST 2017\n",
      "epoch = 25, cost = 0.24314939975738525, Fri Sep  8 21:56:09 CST 2017\n",
      "epoch = 26, cost = 0.24347087740898132, Fri Sep  8 21:56:22 CST 2017\n",
      "epoch = 27, cost = 0.24745212495326996, Fri Sep  8 21:56:36 CST 2017\n",
      "epoch = 28, cost = 0.2376575917005539, Fri Sep  8 21:56:49 CST 2017\n",
      "epoch = 29, cost = 0.22927619516849518, Fri Sep  8 21:57:03 CST 2017\n",
      "epoch = 30, cost = 0.22755131125450134, Fri Sep  8 21:57:17 CST 2017\n",
      "epoch = 31, cost = 0.22629767656326294, Fri Sep  8 21:57:31 CST 2017\n",
      "epoch = 32, cost = 0.22478251159191132, Fri Sep  8 21:57:44 CST 2017\n",
      "epoch = 33, cost = 0.22912275791168213, Fri Sep  8 21:57:58 CST 2017\n",
      "epoch = 34, cost = 0.22061428427696228, Fri Sep  8 21:58:12 CST 2017\n",
      "epoch = 35, cost = 0.21641726791858673, Fri Sep  8 21:58:25 CST 2017\n",
      "epoch = 36, cost = 0.21214190125465393, Fri Sep  8 21:58:39 CST 2017\n",
      "epoch = 37, cost = 0.20911704003810883, Fri Sep  8 21:58:53 CST 2017\n",
      "epoch = 38, cost = 0.20444153249263763, Fri Sep  8 21:59:06 CST 2017\n",
      "epoch = 39, cost = 0.20870304107666016, Fri Sep  8 21:59:20 CST 2017\n",
      "epoch = 40, cost = 0.20058655738830566, Fri Sep  8 21:59:34 CST 2017\n",
      "epoch = 41, cost = 0.2007000595331192, Fri Sep  8 21:59:47 CST 2017\n",
      "epoch = 42, cost = 0.21103082597255707, Fri Sep  8 22:00:01 CST 2017\n",
      "epoch = 43, cost = 0.20104531943798065, Fri Sep  8 22:00:15 CST 2017\n",
      "epoch = 44, cost = 0.19535282254219055, Fri Sep  8 22:00:28 CST 2017\n",
      "epoch = 45, cost = 0.1891665756702423, Fri Sep  8 22:00:42 CST 2017\n",
      "epoch = 46, cost = 0.1869131624698639, Fri Sep  8 22:00:56 CST 2017\n",
      "epoch = 47, cost = 0.18936817348003387, Fri Sep  8 22:01:09 CST 2017\n",
      "epoch = 48, cost = 0.18351557850837708, Fri Sep  8 22:01:23 CST 2017\n",
      "epoch = 49, cost = 0.18449854850769043, Fri Sep  8 22:01:37 CST 2017\n",
      "epoch = 50, cost = 0.18420451879501343, Fri Sep  8 22:01:50 CST 2017\n",
      "epoch = 51, cost = 0.18032732605934143, Fri Sep  8 22:02:04 CST 2017\n",
      "epoch = 52, cost = 0.175380140542984, Fri Sep  8 22:02:17 CST 2017\n",
      "epoch = 53, cost = 0.17663438618183136, Fri Sep  8 22:02:31 CST 2017\n",
      "epoch = 54, cost = 0.18043971061706543, Fri Sep  8 22:02:45 CST 2017\n",
      "epoch = 55, cost = 0.1718052178621292, Fri Sep  8 22:02:58 CST 2017\n",
      "epoch = 56, cost = 0.17218901216983795, Fri Sep  8 22:03:12 CST 2017\n",
      "epoch = 57, cost = 0.1715192198753357, Fri Sep  8 22:03:26 CST 2017\n",
      "epoch = 58, cost = 0.17019544541835785, Fri Sep  8 22:03:39 CST 2017\n",
      "epoch = 59, cost = 0.16571196913719177, Fri Sep  8 22:03:53 CST 2017\n",
      "epoch = 60, cost = 0.163329616189003, Fri Sep  8 22:04:07 CST 2017\n",
      "epoch = 61, cost = 0.16959869861602783, Fri Sep  8 22:04:20 CST 2017\n",
      "epoch = 62, cost = 0.16247442364692688, Fri Sep  8 22:04:34 CST 2017\n",
      "epoch = 63, cost = 0.166774719953537, Fri Sep  8 22:04:47 CST 2017\n",
      "epoch = 64, cost = 0.16595488786697388, Fri Sep  8 22:05:01 CST 2017\n",
      "epoch = 65, cost = 0.1601254791021347, Fri Sep  8 22:05:15 CST 2017\n",
      "epoch = 66, cost = 0.15679745376110077, Fri Sep  8 22:05:28 CST 2017\n",
      "epoch = 67, cost = 0.15482357144355774, Fri Sep  8 22:05:42 CST 2017\n",
      "epoch = 68, cost = 0.15326592326164246, Fri Sep  8 22:05:56 CST 2017\n",
      "epoch = 69, cost = 0.1550528109073639, Fri Sep  8 22:06:10 CST 2017\n",
      "epoch = 70, cost = 0.1557515412569046, Fri Sep  8 22:06:23 CST 2017\n",
      "epoch = 71, cost = 0.1550624519586563, Fri Sep  8 22:06:37 CST 2017\n",
      "epoch = 72, cost = 0.15728189051151276, Fri Sep  8 22:06:51 CST 2017\n",
      "epoch = 73, cost = 0.14910586178302765, Fri Sep  8 22:07:04 CST 2017\n",
      "epoch = 74, cost = 0.14547774195671082, Fri Sep  8 22:07:18 CST 2017\n",
      "epoch = 75, cost = 0.15239758789539337, Fri Sep  8 22:07:32 CST 2017\n",
      "epoch = 76, cost = 0.1476648598909378, Fri Sep  8 22:07:45 CST 2017\n",
      "epoch = 77, cost = 0.14231304824352264, Fri Sep  8 22:07:59 CST 2017\n",
      "epoch = 78, cost = 0.14863687753677368, Fri Sep  8 22:08:13 CST 2017\n",
      "epoch = 79, cost = 0.13931432366371155, Fri Sep  8 22:08:26 CST 2017\n",
      "epoch = 80, cost = 0.14296747744083405, Fri Sep  8 22:08:40 CST 2017\n",
      "epoch = 81, cost = 0.1451115757226944, Fri Sep  8 22:08:54 CST 2017\n",
      "epoch = 82, cost = 0.14175471663475037, Fri Sep  8 22:09:07 CST 2017\n",
      "epoch = 83, cost = 0.14392046630382538, Fri Sep  8 22:09:21 CST 2017\n",
      "epoch = 84, cost = 0.13954108953475952, Fri Sep  8 22:09:35 CST 2017\n",
      "epoch = 85, cost = 0.1339966505765915, Fri Sep  8 22:09:48 CST 2017\n",
      "epoch = 86, cost = 0.13816814124584198, Fri Sep  8 22:10:02 CST 2017\n",
      "epoch = 87, cost = 0.13736948370933533, Fri Sep  8 22:10:16 CST 2017\n",
      "epoch = 88, cost = 0.13412684202194214, Fri Sep  8 22:10:30 CST 2017\n",
      "epoch = 89, cost = 0.14440026879310608, Fri Sep  8 22:10:43 CST 2017\n",
      "epoch = 90, cost = 0.126763716340065, Fri Sep  8 22:10:57 CST 2017\n",
      "epoch = 91, cost = 0.13110367953777313, Fri Sep  8 22:11:11 CST 2017\n",
      "epoch = 92, cost = 0.12852691113948822, Fri Sep  8 22:11:25 CST 2017\n",
      "epoch = 93, cost = 0.1300744265317917, Fri Sep  8 22:11:39 CST 2017\n",
      "epoch = 94, cost = 0.12853239476680756, Fri Sep  8 22:11:52 CST 2017\n",
      "epoch = 95, cost = 0.12549379467964172, Fri Sep  8 22:12:06 CST 2017\n",
      "epoch = 96, cost = 0.12954181432724, Fri Sep  8 22:12:20 CST 2017\n",
      "epoch = 97, cost = 0.12584781646728516, Fri Sep  8 22:12:33 CST 2017\n",
      "epoch = 98, cost = 0.12446887046098709, Fri Sep  8 22:12:47 CST 2017\n",
      "epoch = 99, cost = 0.12208815664052963, Fri Sep  8 22:13:01 CST 2017\n",
      "epoch = 100, cost = 0.11887767910957336, Fri Sep  8 22:13:15 CST 2017\n",
      "epoch = 101, cost = 0.12952367961406708, Fri Sep  8 22:13:28 CST 2017\n",
      "epoch = 102, cost = 0.12205879390239716, Fri Sep  8 22:13:42 CST 2017\n",
      "epoch = 103, cost = 0.1193830817937851, Fri Sep  8 22:13:56 CST 2017\n",
      "epoch = 104, cost = 0.11947253346443176, Fri Sep  8 22:14:10 CST 2017\n",
      "epoch = 105, cost = 0.12008126080036163, Fri Sep  8 22:14:23 CST 2017\n",
      "epoch = 106, cost = 0.1162753701210022, Fri Sep  8 22:14:37 CST 2017\n",
      "epoch = 107, cost = 0.11826981604099274, Fri Sep  8 22:14:51 CST 2017\n",
      "epoch = 108, cost = 0.12030694633722305, Fri Sep  8 22:15:04 CST 2017\n",
      "epoch = 109, cost = 0.12302147597074509, Fri Sep  8 22:15:18 CST 2017\n",
      "epoch = 110, cost = 0.12273619323968887, Fri Sep  8 22:15:32 CST 2017\n",
      "epoch = 111, cost = 0.1123214066028595, Fri Sep  8 22:15:45 CST 2017\n",
      "epoch = 112, cost = 0.11252686381340027, Fri Sep  8 22:15:59 CST 2017\n",
      "epoch = 113, cost = 0.11461284011602402, Fri Sep  8 22:16:12 CST 2017\n",
      "epoch = 114, cost = 0.11165080219507217, Fri Sep  8 22:16:26 CST 2017\n",
      "epoch = 115, cost = 0.11156676709651947, Fri Sep  8 22:16:40 CST 2017\n",
      "epoch = 116, cost = 0.11065959930419922, Fri Sep  8 22:16:53 CST 2017\n",
      "epoch = 117, cost = 0.1137186661362648, Fri Sep  8 22:17:07 CST 2017\n",
      "epoch = 118, cost = 0.1080092340707779, Fri Sep  8 22:17:21 CST 2017\n"
     ]
    },
    {
     "name": "stdout",
     "output_type": "stream",
     "text": [
      "epoch = 119, cost = 0.10750669240951538, Fri Sep  8 22:17:34 CST 2017\n",
      "epoch = 120, cost = 0.11204637587070465, Fri Sep  8 22:17:48 CST 2017\n",
      "epoch = 121, cost = 0.12184291332960129, Fri Sep  8 22:18:01 CST 2017\n",
      "epoch = 122, cost = 0.1036955937743187, Fri Sep  8 22:18:15 CST 2017\n",
      "epoch = 123, cost = 0.10526107251644135, Fri Sep  8 22:18:29 CST 2017\n",
      "epoch = 124, cost = 0.10638885945081711, Fri Sep  8 22:18:42 CST 2017\n",
      "epoch = 125, cost = 0.10269225388765335, Fri Sep  8 22:18:56 CST 2017\n",
      "epoch = 126, cost = 0.10691949725151062, Fri Sep  8 22:19:10 CST 2017\n",
      "epoch = 127, cost = 0.10053576529026031, Fri Sep  8 22:19:23 CST 2017\n",
      "epoch = 128, cost = 0.10380540788173676, Fri Sep  8 22:19:37 CST 2017\n",
      "epoch = 129, cost = 0.10408466309309006, Fri Sep  8 22:19:51 CST 2017\n",
      "epoch = 130, cost = 0.10010211914777756, Fri Sep  8 22:20:04 CST 2017\n",
      "epoch = 131, cost = 0.10031824558973312, Fri Sep  8 22:20:18 CST 2017\n",
      "epoch = 132, cost = 0.10223646461963654, Fri Sep  8 22:20:31 CST 2017\n",
      "epoch = 133, cost = 0.10344799607992172, Fri Sep  8 22:20:45 CST 2017\n",
      "epoch = 134, cost = 0.10373467206954956, Fri Sep  8 22:20:59 CST 2017\n",
      "epoch = 135, cost = 0.1040969267487526, Fri Sep  8 22:21:12 CST 2017\n",
      "epoch = 136, cost = 0.09609948843717575, Fri Sep  8 22:21:26 CST 2017\n",
      "epoch = 137, cost = 0.09767857193946838, Fri Sep  8 22:21:40 CST 2017\n",
      "epoch = 138, cost = 0.09980552643537521, Fri Sep  8 22:21:53 CST 2017\n",
      "epoch = 139, cost = 0.0962948426604271, Fri Sep  8 22:22:07 CST 2017\n",
      "epoch = 140, cost = 0.10180038958787918, Fri Sep  8 22:22:21 CST 2017\n",
      "epoch = 141, cost = 0.09408679604530334, Fri Sep  8 22:22:34 CST 2017\n",
      "epoch = 142, cost = 0.09518258273601532, Fri Sep  8 22:22:48 CST 2017\n",
      "epoch = 143, cost = 0.09878768771886826, Fri Sep  8 22:23:02 CST 2017\n",
      "epoch = 144, cost = 0.09301033616065979, Fri Sep  8 22:23:16 CST 2017\n",
      "epoch = 145, cost = 0.0956210196018219, Fri Sep  8 22:23:29 CST 2017\n",
      "epoch = 146, cost = 0.09107592701911926, Fri Sep  8 22:23:43 CST 2017\n",
      "epoch = 147, cost = 0.09927510470151901, Fri Sep  8 22:23:57 CST 2017\n",
      "epoch = 148, cost = 0.09531436860561371, Fri Sep  8 22:24:11 CST 2017\n",
      "epoch = 149, cost = 0.10445455461740494, Fri Sep  8 22:24:24 CST 2017\n",
      "epoch = 150, cost = 0.08996640890836716, Fri Sep  8 22:24:38 CST 2017\n",
      "epoch = 151, cost = 0.09313050657510757, Fri Sep  8 22:24:52 CST 2017\n",
      "epoch = 152, cost = 0.09038941562175751, Fri Sep  8 22:25:05 CST 2017\n",
      "epoch = 153, cost = 0.08971256017684937, Fri Sep  8 22:25:19 CST 2017\n",
      "epoch = 154, cost = 0.08855313807725906, Fri Sep  8 22:25:33 CST 2017\n",
      "epoch = 155, cost = 0.0920223593711853, Fri Sep  8 22:25:47 CST 2017\n",
      "epoch = 156, cost = 0.08644790947437286, Fri Sep  8 22:26:01 CST 2017\n",
      "epoch = 157, cost = 0.08920221030712128, Fri Sep  8 22:26:14 CST 2017\n",
      "epoch = 158, cost = 0.08777547627687454, Fri Sep  8 22:26:28 CST 2017\n",
      "epoch = 159, cost = 0.08860256522893906, Fri Sep  8 22:26:42 CST 2017\n",
      "epoch = 160, cost = 0.08927401900291443, Fri Sep  8 22:26:56 CST 2017\n",
      "epoch = 161, cost = 0.08935493975877762, Fri Sep  8 22:27:09 CST 2017\n",
      "epoch = 162, cost = 0.09481283277273178, Fri Sep  8 22:27:23 CST 2017\n",
      "epoch = 163, cost = 0.08580493181943893, Fri Sep  8 22:27:37 CST 2017\n",
      "epoch = 164, cost = 0.0891866683959961, Fri Sep  8 22:27:51 CST 2017\n",
      "epoch = 165, cost = 0.09744279831647873, Fri Sep  8 22:28:04 CST 2017\n",
      "epoch = 166, cost = 0.08938682079315186, Fri Sep  8 22:28:18 CST 2017\n",
      "epoch = 167, cost = 0.08545427024364471, Fri Sep  8 22:28:32 CST 2017\n",
      "epoch = 168, cost = 0.08500507473945618, Fri Sep  8 22:28:46 CST 2017\n",
      "epoch = 169, cost = 0.09074507653713226, Fri Sep  8 22:28:59 CST 2017\n",
      "epoch = 170, cost = 0.08897430449724197, Fri Sep  8 22:29:13 CST 2017\n",
      "epoch = 171, cost = 0.08746473491191864, Fri Sep  8 22:29:27 CST 2017\n",
      "epoch = 172, cost = 0.08930376917123795, Fri Sep  8 22:29:41 CST 2017\n"
     ]
    },
    {
     "ename": "KeyboardInterrupt",
     "evalue": "",
     "output_type": "error",
     "traceback": [
      "\u001b[0;31m---------------------------------------------------------------------------\u001b[0m",
      "\u001b[0;31mKeyboardInterrupt\u001b[0m                         Traceback (most recent call last)",
      "\u001b[0;32m<ipython-input-93-e18f3609c214>\u001b[0m in \u001b[0;36m<module>\u001b[0;34m()\u001b[0m\n\u001b[1;32m     14\u001b[0m         _ = sess.run([train_step], feed_dict = {\n\u001b[1;32m     15\u001b[0m                                             \u001b[0mxs\u001b[0m\u001b[0;34m:\u001b[0m \u001b[0;34m[\u001b[0m\u001b[0mtraining_img_dataset\u001b[0m\u001b[0;34m[\u001b[0m\u001b[0mi\u001b[0m\u001b[0;34m]\u001b[0m\u001b[0;34m]\u001b[0m\u001b[0;34m,\u001b[0m\u001b[0;34m\u001b[0m\u001b[0m\n\u001b[0;32m---> 16\u001b[0;31m                                             ys: [df_croped_face_img_training['PSPI_one_hot'].iloc[i]]})\n\u001b[0m\u001b[1;32m     17\u001b[0m \u001b[0;34m\u001b[0m\u001b[0m\n\u001b[1;32m     18\u001b[0m     \u001b[0;31m# 這一輪訓練後的整體誤差\u001b[0m\u001b[0;34m\u001b[0m\u001b[0;34m\u001b[0m\u001b[0m\n",
      "\u001b[0;32m/home/lky/anaconda3/lib/python3.6/site-packages/tensorflow/python/client/session.py\u001b[0m in \u001b[0;36mrun\u001b[0;34m(self, fetches, feed_dict, options, run_metadata)\u001b[0m\n\u001b[1;32m    787\u001b[0m     \u001b[0;32mtry\u001b[0m\u001b[0;34m:\u001b[0m\u001b[0;34m\u001b[0m\u001b[0m\n\u001b[1;32m    788\u001b[0m       result = self._run(None, fetches, feed_dict, options_ptr,\n\u001b[0;32m--> 789\u001b[0;31m                          run_metadata_ptr)\n\u001b[0m\u001b[1;32m    790\u001b[0m       \u001b[0;32mif\u001b[0m \u001b[0mrun_metadata\u001b[0m\u001b[0;34m:\u001b[0m\u001b[0;34m\u001b[0m\u001b[0m\n\u001b[1;32m    791\u001b[0m         \u001b[0mproto_data\u001b[0m \u001b[0;34m=\u001b[0m \u001b[0mtf_session\u001b[0m\u001b[0;34m.\u001b[0m\u001b[0mTF_GetBuffer\u001b[0m\u001b[0;34m(\u001b[0m\u001b[0mrun_metadata_ptr\u001b[0m\u001b[0;34m)\u001b[0m\u001b[0;34m\u001b[0m\u001b[0m\n",
      "\u001b[0;32m/home/lky/anaconda3/lib/python3.6/site-packages/tensorflow/python/client/session.py\u001b[0m in \u001b[0;36m_run\u001b[0;34m(self, handle, fetches, feed_dict, options, run_metadata)\u001b[0m\n\u001b[1;32m    995\u001b[0m     \u001b[0;32mif\u001b[0m \u001b[0mfinal_fetches\u001b[0m \u001b[0;32mor\u001b[0m \u001b[0mfinal_targets\u001b[0m\u001b[0;34m:\u001b[0m\u001b[0;34m\u001b[0m\u001b[0m\n\u001b[1;32m    996\u001b[0m       results = self._do_run(handle, final_targets, final_fetches,\n\u001b[0;32m--> 997\u001b[0;31m                              feed_dict_string, options, run_metadata)\n\u001b[0m\u001b[1;32m    998\u001b[0m     \u001b[0;32melse\u001b[0m\u001b[0;34m:\u001b[0m\u001b[0;34m\u001b[0m\u001b[0m\n\u001b[1;32m    999\u001b[0m       \u001b[0mresults\u001b[0m \u001b[0;34m=\u001b[0m \u001b[0;34m[\u001b[0m\u001b[0;34m]\u001b[0m\u001b[0;34m\u001b[0m\u001b[0m\n",
      "\u001b[0;32m/home/lky/anaconda3/lib/python3.6/site-packages/tensorflow/python/client/session.py\u001b[0m in \u001b[0;36m_do_run\u001b[0;34m(self, handle, target_list, fetch_list, feed_dict, options, run_metadata)\u001b[0m\n\u001b[1;32m   1130\u001b[0m     \u001b[0;32mif\u001b[0m \u001b[0mhandle\u001b[0m \u001b[0;32mis\u001b[0m \u001b[0;32mNone\u001b[0m\u001b[0;34m:\u001b[0m\u001b[0;34m\u001b[0m\u001b[0m\n\u001b[1;32m   1131\u001b[0m       return self._do_call(_run_fn, self._session, feed_dict, fetch_list,\n\u001b[0;32m-> 1132\u001b[0;31m                            target_list, options, run_metadata)\n\u001b[0m\u001b[1;32m   1133\u001b[0m     \u001b[0;32melse\u001b[0m\u001b[0;34m:\u001b[0m\u001b[0;34m\u001b[0m\u001b[0m\n\u001b[1;32m   1134\u001b[0m       return self._do_call(_prun_fn, self._session, handle, feed_dict,\n",
      "\u001b[0;32m/home/lky/anaconda3/lib/python3.6/site-packages/tensorflow/python/client/session.py\u001b[0m in \u001b[0;36m_do_call\u001b[0;34m(self, fn, *args)\u001b[0m\n\u001b[1;32m   1137\u001b[0m   \u001b[0;32mdef\u001b[0m \u001b[0m_do_call\u001b[0m\u001b[0;34m(\u001b[0m\u001b[0mself\u001b[0m\u001b[0;34m,\u001b[0m \u001b[0mfn\u001b[0m\u001b[0;34m,\u001b[0m \u001b[0;34m*\u001b[0m\u001b[0margs\u001b[0m\u001b[0;34m)\u001b[0m\u001b[0;34m:\u001b[0m\u001b[0;34m\u001b[0m\u001b[0m\n\u001b[1;32m   1138\u001b[0m     \u001b[0;32mtry\u001b[0m\u001b[0;34m:\u001b[0m\u001b[0;34m\u001b[0m\u001b[0m\n\u001b[0;32m-> 1139\u001b[0;31m       \u001b[0;32mreturn\u001b[0m \u001b[0mfn\u001b[0m\u001b[0;34m(\u001b[0m\u001b[0;34m*\u001b[0m\u001b[0margs\u001b[0m\u001b[0;34m)\u001b[0m\u001b[0;34m\u001b[0m\u001b[0m\n\u001b[0m\u001b[1;32m   1140\u001b[0m     \u001b[0;32mexcept\u001b[0m \u001b[0merrors\u001b[0m\u001b[0;34m.\u001b[0m\u001b[0mOpError\u001b[0m \u001b[0;32mas\u001b[0m \u001b[0me\u001b[0m\u001b[0;34m:\u001b[0m\u001b[0;34m\u001b[0m\u001b[0m\n\u001b[1;32m   1141\u001b[0m       \u001b[0mmessage\u001b[0m \u001b[0;34m=\u001b[0m \u001b[0mcompat\u001b[0m\u001b[0;34m.\u001b[0m\u001b[0mas_text\u001b[0m\u001b[0;34m(\u001b[0m\u001b[0me\u001b[0m\u001b[0;34m.\u001b[0m\u001b[0mmessage\u001b[0m\u001b[0;34m)\u001b[0m\u001b[0;34m\u001b[0m\u001b[0m\n",
      "\u001b[0;32m/home/lky/anaconda3/lib/python3.6/site-packages/tensorflow/python/client/session.py\u001b[0m in \u001b[0;36m_run_fn\u001b[0;34m(session, feed_dict, fetch_list, target_list, options, run_metadata)\u001b[0m\n\u001b[1;32m   1119\u001b[0m         return tf_session.TF_Run(session, options,\n\u001b[1;32m   1120\u001b[0m                                  \u001b[0mfeed_dict\u001b[0m\u001b[0;34m,\u001b[0m \u001b[0mfetch_list\u001b[0m\u001b[0;34m,\u001b[0m \u001b[0mtarget_list\u001b[0m\u001b[0;34m,\u001b[0m\u001b[0;34m\u001b[0m\u001b[0m\n\u001b[0;32m-> 1121\u001b[0;31m                                  status, run_metadata)\n\u001b[0m\u001b[1;32m   1122\u001b[0m \u001b[0;34m\u001b[0m\u001b[0m\n\u001b[1;32m   1123\u001b[0m     \u001b[0;32mdef\u001b[0m \u001b[0m_prun_fn\u001b[0m\u001b[0;34m(\u001b[0m\u001b[0msession\u001b[0m\u001b[0;34m,\u001b[0m \u001b[0mhandle\u001b[0m\u001b[0;34m,\u001b[0m \u001b[0mfeed_dict\u001b[0m\u001b[0;34m,\u001b[0m \u001b[0mfetch_list\u001b[0m\u001b[0;34m)\u001b[0m\u001b[0;34m:\u001b[0m\u001b[0;34m\u001b[0m\u001b[0m\n",
      "\u001b[0;31mKeyboardInterrupt\u001b[0m: "
     ]
    }
   ],
   "source": [
    "# 模型訓練前的整體誤差\n",
    "cost = sess.run(loss, feed_dict = {\n",
    "                                    xs: training_img_dataset,\n",
    "                                    ys: df_croped_face_img_training['PSPI_one_hot'].tolist() })\n",
    "print(\"epoch = None, cost = {}, {}\".format(cost , subprocess.getoutput('date')))\n",
    "\n",
    "# 訓練\n",
    "for epoch in range(200):\n",
    "    train_squence = [i for i in range(len(training_img_dataset))] #產生線性的資料流水號序列\n",
    "    np.random.shuffle(train_squence)\n",
    "    \n",
    "    # 這一輪訓練\n",
    "    for i in train_squence:\n",
    "        _ = sess.run([train_step], feed_dict = {\n",
    "                                            xs: [training_img_dataset[i]],\n",
    "                                            ys: [df_croped_face_img_training['PSPI_one_hot'].iloc[i]]})\n",
    "    \n",
    "    # 這一輪訓練後的整體誤差\n",
    "    cost = sess.run(loss, feed_dict = {\n",
    "                                    xs: training_img_dataset,\n",
    "                                    ys: df_croped_face_img_training['PSPI_one_hot'].tolist()})\n",
    "    print(\"epoch = {}, cost = {}, {}\".format(epoch, cost , subprocess.getoutput('date')))"
   ]
  },
  {
   "cell_type": "markdown",
   "metadata": {},
   "source": [
    "# Validation"
   ]
  },
  {
   "cell_type": "code",
   "execution_count": 116,
   "metadata": {},
   "outputs": [
    {
     "name": "stderr",
     "output_type": "stream",
     "text": [
      "/home/lky/anaconda3/lib/python3.6/site-packages/sklearn/utils/validation.py:429: DataConversionWarning: Data with input dtype int32 was converted to float64 by the normalize function.\n",
      "  warnings.warn(msg, _DataConversionWarning)\n"
     ]
    },
    {
     "data": {
      "image/png": "[encoded data removed]",
      "text/plain": [
       "<matplotlib.figure.Figure at 0x7f3bc3645400>"
      ]
     },
     "metadata": {},
     "output_type": "display_data"
    }
   ],
   "source": [
    "# confusion_matrix\n",
    "inference_class = sess.run(tf.arg_max(\n",
    "                                sess.run(layer_output, feed_dict={xs:validation_img_dataset}), dimension=1))\n",
    "# 不吃 one-hot labels，只吃 1D-arry\n",
    "confusion_matrix = sess.run(\n",
    "        tf.confusion_matrix(df_croped_face_img_validation['PSPI'].tolist(),\n",
    "                            inference_class,\n",
    "                            num_classes = len(df_croped_face_img_validation['PSPI'].unique())))\n",
    "from sklearn.preprocessing import normalize\n",
    "plt.imshow(normalize(confusion_matrix, norm='max'), cmap=plt.cm.Reds)\n",
    "plt.show()"
   ]
  },
  {
   "cell_type": "code",
   "execution_count": 131,
   "metadata": {},
   "outputs": [
    {
     "name": "stdout",
     "output_type": "stream",
     "text": [
      "PCCs = [[ 1.          0.81930881]\n",
      "        [ 0.81930881  1.        ]]\n",
      "MSE  = 0.6400293255131965\n"
     ]
    }
   ],
   "source": [
    "# 計算實驗結果\n",
    "from sklearn.metrics import mean_squared_error\n",
    "predict_result = inference_class\n",
    "ground_truth = df_croped_face_img_validation['PSPI'].values\n",
    "print(\"PCCs = {}\".format(np.corrcoef(x=ground_truth, y=predict_result)).replace('\\n','\\n'+' '*7))\n",
    "print(\"MSE  = {}\".format(mean_squared_error(ground_truth, predict_result)))"
   ]
  },
  {
   "cell_type": "code",
   "execution_count": 132,
   "metadata": {},
   "outputs": [
    {
     "name": "stdout",
     "output_type": "stream",
     "text": [
      "trained_model/train_net_by_pain_face_classification.ckpt\n"
     ]
    }
   ],
   "source": [
    "saver = tf.train.Saver()\n",
    "saver_path = saver.save(sess, \"trained_model/train_net_by_pain_face_classification.ckpt\")\n",
    "print(saver_path)"
   ]
  },
  {
   "cell_type": "code",
   "execution_count": null,
   "metadata": {
    "collapsed": true
   },
   "outputs": [],
   "source": []
  }
 ],
 "metadata": {
  "kernelspec": {
   "display_name": "Python 3",
   "language": "python",
   "name": "python3"
  },
  "language_info": {
   "codemirror_mode": {
    "name": "ipython",
    "version": 3
   },
   "file_extension": ".py",
   "mimetype": "text/x-python",
   "name": "python",
   "nbconvert_exporter": "python",
   "pygments_lexer": "ipython3",
   "version": "3.6.1"
  }
 },
 "nbformat": 4,
 "nbformat_minor": 2
}
