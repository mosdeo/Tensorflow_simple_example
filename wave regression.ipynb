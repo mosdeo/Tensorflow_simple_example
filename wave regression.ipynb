{
 "cells": [
  {
   "cell_type": "code",
   "execution_count": 125,
   "metadata": {
    "collapsed": true
   },
   "outputs": [],
   "source": [
    "import tensorflow as tf\n",
    "import numpy as np\n",
    "import matplotlib.pyplot as plt\n",
    "import scipy as sci"
   ]
  },
  {
   "cell_type": "code",
   "execution_count": 126,
   "metadata": {
    "collapsed": true
   },
   "outputs": [],
   "source": [
    "# 單層建構函式\n",
    "def make_layer(inputs, in_size, out_size, activation_function=None):\n",
    "    Weights = tf.Variable(tf.random_normal([in_size, out_size]))\n",
    "    biases = tf.Variable(tf.zeros([1, out_size]) + 0.1)\n",
    "    Wx_plus_b = tf.matmul(inputs, Weights) + biases\n",
    "    if activation_function is None:\n",
    "        outputs = Wx_plus_b\n",
    "    else:\n",
    "        outputs = activation_function(Wx_plus_b)\n",
    "    return outputs"
   ]
  },
  {
   "cell_type": "code",
   "execution_count": 127,
   "metadata": {},
   "outputs": [
    {
     "data": {
      "image/png": "[encoded data removed]",
      "text/plain": [
       "<matplotlib.figure.Figure at 0x7f226a2608d0>"
      ]
     },
     "metadata": {},
     "output_type": "display_data"
    }
   ],
   "source": [
    "# 產生訓練資料\n",
    "x_data = np.linspace(-np.pi,2*np.pi,300, dtype=np.float32)[:, np.newaxis]\n",
    "y_data = np.cos(1.5*x_data)+np.sin(x_data) #Cos(2x)+Sin(3x)\n",
    "noise = np.random.normal(0, 0.05, x_data.shape).astype(np.float32)\n",
    "# y_data = np.square(x_data) - 0.5 + noise\n",
    "plt.scatter(x_data, y_data,marker='.')\n",
    "plt.show()"
   ]
  },
  {
   "cell_type": "code",
   "execution_count": 128,
   "metadata": {
    "collapsed": true
   },
   "outputs": [],
   "source": [
    "# 定義輸出入變數\n",
    "xs = tf.placeholder(tf.float32,[None,1])\n",
    "ys = tf.placeholder(tf.float32,[None,1])\n",
    "\n",
    "# 定義多層流程\n",
    "my_activation_function = tf.nn.relu # 統一中間層活化函數\n",
    "layer_hidden_1 = make_layer(xs, 1, 10, activation_function=my_activation_function)\n",
    "layer_hidden_2 = make_layer(layer_hidden_1, 10, 10, activation_function=my_activation_function)\n",
    "layer_output   = make_layer(layer_hidden_2, 10, 1) "
   ]
  },
  {
   "cell_type": "code",
   "execution_count": 129,
   "metadata": {
    "collapsed": true
   },
   "outputs": [],
   "source": [
    "# 定義損失函數\n",
    "loss = tf.reduce_mean(tf.reduce_sum(tf.square(ys - layer_output), reduction_indices=[1]))"
   ]
  },
  {
   "cell_type": "code",
   "execution_count": 130,
   "metadata": {
    "collapsed": true
   },
   "outputs": [],
   "source": [
    "# 定義學習方法\n",
    "train_step = tf.train.GradientDescentOptimizer(0.004).minimize(loss)"
   ]
  },
  {
   "cell_type": "code",
   "execution_count": 131,
   "metadata": {
    "collapsed": true
   },
   "outputs": [],
   "source": [
    "# 變數初始化\n",
    "init = tf.global_variables_initializer()\n",
    "sess = tf.Session()\n",
    "sess.run(init)"
   ]
  },
  {
   "cell_type": "code",
   "execution_count": 132,
   "metadata": {},
   "outputs": [
    {
     "name": "stdout",
     "output_type": "stream",
     "text": [
      "280.03\n",
      "0.193142\n",
      "0.148467\n"
     ]
    }
   ],
   "source": [
    "# 訓練\n",
    "for i in range(3000):\n",
    "    sess.run(train_step, feed_dict={xs:x_data, ys:y_data})\n",
    "    if(i%1000==0):\n",
    "        print(sess.run(loss, feed_dict={xs:x_data, ys:y_data}))"
   ]
  },
  {
   "cell_type": "code",
   "execution_count": 133,
   "metadata": {},
   "outputs": [
    {
     "data": {
      "image/png": "[encoded data removed]",
      "text/plain": [
       "<matplotlib.figure.Figure at 0x7f226a3d30f0>"
      ]
     },
     "metadata": {},
     "output_type": "display_data"
    }
   ],
   "source": [
    "# 測試\n",
    "x_test = [[i] for i in np.linspace(-np.pi,2*np.pi,300) ]\n",
    "y_test = sess.run(layer_output, feed_dict={xs:x_test})\n",
    "plt.scatter(x_test, y_test,marker='.')\n",
    "plt.show()"
   ]
  },
  {
   "cell_type": "code",
   "execution_count": null,
   "metadata": {
    "collapsed": true
   },
   "outputs": [],
   "source": []
  },
  {
   "cell_type": "code",
   "execution_count": 134,
   "metadata": {
    "collapsed": true
   },
   "outputs": [],
   "source": [
    "# 同場加映 Support Vector Regression\n",
    "from sklearn.svm import SVR\n",
    "from sklearn.metrics import mean_squared_error\n",
    "from sklearn.model_selection import cross_val_score"
   ]
  },
  {
   "cell_type": "code",
   "execution_count": 135,
   "metadata": {},
   "outputs": [
    {
     "data": {
      "text/plain": [
       "SVR(C=1.0, cache_size=200, coef0=0.0, degree=3, epsilon=0.1, gamma='auto',\n",
       "  kernel='rbf', max_iter=-1, shrinking=True, tol=0.001, verbose=False)"
      ]
     },
     "execution_count": 135,
     "metadata": {},
     "output_type": "execute_result"
    }
   ],
   "source": [
    "svr_model = SVR()\n",
    "svr_model.fit(X=x_data, y=y_data[:,0])"
   ]
  },
  {
   "cell_type": "code",
   "execution_count": 136,
   "metadata": {},
   "outputs": [
    {
     "name": "stdout",
     "output_type": "stream",
     "text": [
      "PCCs = [[ 1.          0.99919548]\n",
      " [ 0.99919548  1.        ]]\n",
      "MSE  = 0.005725546965086583\n"
     ]
    }
   ],
   "source": [
    "predict_result = svr_model.predict(x_data)\n",
    "print(\"PCCs = {}\".format(np.corrcoef(x=predict_result, y=y_data[:,0])))\n",
    "print(\"MSE  = {}\".format(mean_squared_error(y_data[:,0], predict_result)))"
   ]
  },
  {
   "cell_type": "code",
   "execution_count": 137,
   "metadata": {},
   "outputs": [
    {
     "data": {
      "image/png": "[encoded data removed]",
      "text/plain": [
       "<matplotlib.figure.Figure at 0x7f226a125080>"
      ]
     },
     "metadata": {},
     "output_type": "display_data"
    }
   ],
   "source": [
    "plt.plot(predict_result)\n",
    "plt.show()"
   ]
  },
  {
   "cell_type": "code",
   "execution_count": 138,
   "metadata": {},
   "outputs": [
    {
     "name": "stdout",
     "output_type": "stream",
     "text": [
      "MSE =[-1.4959866  -0.22707678 -0.39504693]\n",
      "PCCs=[-0.90779779  0.26845822 -0.27082134]\n"
     ]
    }
   ],
   "source": [
    "# 交叉驗證\n",
    "k = 3\n",
    "print(\"MSE ={}\".format(cross_val_score(estimator=svr_model, X=x_data, y=y_data[:,0], cv=k, scoring='neg_mean_squared_error')))\n",
    "print(\"PCCs={}\".format(cross_val_score(estimator=svr_model, X=x_data, y=y_data[:,0], cv=k, scoring='r2')))"
   ]
  },
  {
   "cell_type": "code",
   "execution_count": null,
   "metadata": {},
   "outputs": [],
   "source": []
  },
  {
   "cell_type": "code",
   "execution_count": null,
   "metadata": {},
   "outputs": [],
   "source": []
  }
 ],
 "metadata": {
  "kernelspec": {
   "display_name": "Python 3",
   "language": "python",
   "name": "python3"
  },
  "language_info": {
   "codemirror_mode": {
    "name": "ipython",
    "version": 3
   },
   "file_extension": ".py",
   "mimetype": "text/x-python",
   "name": "python",
   "nbconvert_exporter": "python",
   "pygments_lexer": "ipython3",
   "version": "3.6.2"
  }
 },
 "nbformat": 4,
 "nbformat_minor": 2
}
