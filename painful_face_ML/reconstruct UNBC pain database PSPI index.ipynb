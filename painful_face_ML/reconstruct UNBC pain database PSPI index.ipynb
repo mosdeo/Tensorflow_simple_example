{
 "cells": [
  {
   "cell_type": "code",
   "execution_count": 25,
   "metadata": {
    "collapsed": true
   },
   "outputs": [],
   "source": [
    "import pandas as pd\n",
    "import numpy as np\n",
    "import matplotlib.pyplot as plt\n",
    "import subprocess"
   ]
  },
  {
   "cell_type": "code",
   "execution_count": 2,
   "metadata": {
    "collapsed": true
   },
   "outputs": [],
   "source": [
    "# 讀取目錄底下所有檔案絕對路徑\n",
    "paths_PSPI_for_painful_image = subprocess.getoutput('find \"/tmp/Frame_Labels/PSPI/\" -type f').split('\\n')"
   ]
  },
  {
   "cell_type": "code",
   "execution_count": 3,
   "metadata": {},
   "outputs": [
    {
     "name": "stdout",
     "output_type": "stream",
     "text": [
      "dr052t1aiaff138, mg066t1aeaff149, len = 48398\n"
     ]
    }
   ],
   "source": [
    "# 取出檔案名稱\n",
    "list_pain_img_name = [\n",
    "    img_path.split(sep='_facs.txt')[0].split(sep='/')[-1]\n",
    "    for img_path in paths_PSPI_for_painful_image]\n",
    "print(\"{}, {}, len = {}\".format(list_pain_img_name[0], list_pain_img_name[-1], len(list_pain_img_name)))"
   ]
  },
  {
   "cell_type": "code",
   "execution_count": 4,
   "metadata": {},
   "outputs": [
    {
     "name": "stdout",
     "output_type": "stream",
     "text": [
      "len = 48398\n"
     ]
    }
   ],
   "source": [
    "# 取出檔案分數\n",
    "list_pain_img_score = [\n",
    "    int(float(open(img_path).readline().replace(\"\\n\",\"\").format('f')))\n",
    "    for img_path in paths_PSPI_for_painful_image]\n",
    "print(\"len = {}\".format(len(list_pain_img_score)))"
   ]
  },
  {
   "cell_type": "code",
   "execution_count": 11,
   "metadata": {},
   "outputs": [],
   "source": [
    "# 檢查不同資料夾下的檔案名稱是否發生碰撞\n",
    "assert len(list_pain_img_name) == len(set(list_pain_img_name)), '檔案名稱有重複'"
   ]
  },
  {
   "cell_type": "code",
   "execution_count": 12,
   "metadata": {
    "collapsed": true
   },
   "outputs": [],
   "source": [
    "## 合併兩個 list 建立對應表\n",
    "df_UNBC_pain_score = pd.DataFrame({'file_name':list_pain_img_name,\n",
    "                                   'PSPI':list_pain_img_score})"
   ]
  },
  {
   "cell_type": "code",
   "execution_count": 100,
   "metadata": {},
   "outputs": [
    {
     "data": {
      "text/plain": [
       "8369"
      ]
     },
     "execution_count": 100,
     "metadata": {},
     "output_type": "execute_result"
    }
   ],
   "source": [
    "df_UNBC_pain_score[\n",
    "    df_UNBC_pain_score['PSPI'] >= 1\n",
    "].index.size"
   ]
  },
  {
   "cell_type": "markdown",
   "metadata": {},
   "source": [
    "### ~~這邊繪圖犯的錯~~\n",
    "~~根據文件顯示，hist 的 range 參數是用來設定上下線忽略 outliner。\n",
    "用來設定圖表 score 應該是 bottom~~"
   ]
  },
  {
   "cell_type": "code",
   "execution_count": 96,
   "metadata": {},
   "outputs": [
    {
     "name": "stdout",
     "output_type": "stream",
     "text": [
      "count    48398.000000\n",
      "mean         0.446981\n",
      "std          1.302021\n",
      "min          0.000000\n",
      "25%          0.000000\n",
      "50%          0.000000\n",
      "75%          0.000000\n",
      "max         15.000000\n",
      "Name: PSPI, dtype: float64\n"
     ]
    },
    {
     "data": {
      "image/png": "[encoded data removed]",
      "text/plain": [
       "<matplotlib.figure.Figure at 0x7fb660259518>"
      ]
     },
     "metadata": {},
     "output_type": "display_data"
    }
   ],
   "source": [
    "print(df_UNBC_pain_score['PSPI'].describe())\n",
    "df_UNBC_pain_score['PSPI'].plot.hist(\n",
    "    align = 'left',\n",
    "    ls = 'dashed',\n",
    "    lw = 1,\n",
    "    edgecolor = 'black',\n",
    "    bins = 17,\n",
    "    yticks = range(16) \n",
    ")\n",
    "# plt.gca().set_yscale(\"log\")\n",
    "plt.show()"
   ]
  },
  {
   "cell_type": "code",
   "execution_count": 104,
   "metadata": {},
   "outputs": [],
   "source": [
    "# df_UNBC_pain_score.set_index(keys='file_name').to_csv(\"UNBC_pain_score_table.csv\")"
   ]
  },
  {
   "cell_type": "code",
   "execution_count": 106,
   "metadata": {},
   "outputs": [
    {
     "data": {
      "text/plain": [
       "48398"
      ]
     },
     "execution_count": 106,
     "metadata": {},
     "output_type": "execute_result"
    }
   ],
   "source": [
    "pd.read_csv(\"UNBC_pain_score_table.csv\").index.size"
   ]
  }
 ],
 "metadata": {
  "kernelspec": {
   "display_name": "Python 3",
   "language": "python",
   "name": "python3"
  },
  "language_info": {
   "codemirror_mode": {
    "name": "ipython",
    "version": 3
   },
   "file_extension": ".py",
   "mimetype": "text/x-python",
   "name": "python",
   "nbconvert_exporter": "python",
   "pygments_lexer": "ipython3",
   "version": "3.6.2"
  }
 },
 "nbformat": 4,
 "nbformat_minor": 2
}
