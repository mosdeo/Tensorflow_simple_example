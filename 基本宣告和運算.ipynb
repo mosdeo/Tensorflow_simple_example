{
 "cells": [
  {
   "cell_type": "code",
   "execution_count": 1,
   "metadata": {
    "collapsed": true
   },
   "outputs": [],
   "source": [
    "import tensorflow as tf\n",
    "sess = tf.Session()"
   ]
  },
  {
   "cell_type": "code",
   "execution_count": 2,
   "metadata": {},
   "outputs": [
    {
     "name": "stdout",
     "output_type": "stream",
     "text": [
      "Tensor(\"Const:0\", shape=(), dtype=int32),\n",
      " <class 'tensorflow.python.framework.ops.Tensor'>,\n",
      " 5\n"
     ]
    }
   ],
   "source": [
    "# 變數初始化\n",
    "a = tf.constant(5)\n",
    "print(\"{},\\n {},\\n {}\".format(a, type(a), sess.run(a)))"
   ]
  },
  {
   "cell_type": "code",
   "execution_count": 3,
   "metadata": {},
   "outputs": [
    {
     "name": "stdout",
     "output_type": "stream",
     "text": [
      "Tensor(\"Const_1:0\", shape=(4,), dtype=int32),\n",
      " <class 'tensorflow.python.framework.ops.Tensor'>,\n",
      " [5 5 6 6]\n"
     ]
    }
   ],
   "source": [
    "# 陣列初始化\n",
    "b = tf.constant([5,5,6,6])\n",
    "print(\"{},\\n {},\\n {}\".format(b, type(b), sess.run(b)))"
   ]
  },
  {
   "cell_type": "code",
   "execution_count": 18,
   "metadata": {},
   "outputs": [
    {
     "name": "stdout",
     "output_type": "stream",
     "text": [
      "15\n",
      "-1\n",
      "56\n",
      "0.875\n",
      "1\n",
      "9\n"
     ]
    }
   ],
   "source": [
    "# 各種基本運算子\n",
    "with tf.Session() as sess:\n",
    "    print(sess.run(tf.add(7,8)))\n",
    "    print(sess.run(tf.subtract(7,8)))\n",
    "    print(sess.run(tf.multiply(7,8)))\n",
    "    print(sess.run(tf.div(7.0,8.0)))\n",
    "    print(sess.run(tf.mod(8,7)))\n",
    "    print(sess.run(tf.abs(-9)))"
   ]
  },
  {
   "cell_type": "code",
   "execution_count": 23,
   "metadata": {},
   "outputs": [
    {
     "name": "stdout",
     "output_type": "stream",
     "text": [
      "b'GG'\n"
     ]
    }
   ],
   "source": [
    "c = tf.Variable(initial_value=\"GG\", name=\"Const_8puss\")\n",
    "with tf.Session() as sess:\n",
    "    sess.run(tf.global_variables_initializer())\n",
    "    print(sess.run(c))"
   ]
  }
 ],
 "metadata": {
  "kernelspec": {
   "display_name": "Python 3",
   "language": "python",
   "name": "python3"
  },
  "language_info": {
   "codemirror_mode": {
    "name": "ipython",
    "version": 3
   },
   "file_extension": ".py",
   "mimetype": "text/x-python",
   "name": "python",
   "nbconvert_exporter": "python",
   "pygments_lexer": "ipython3",
   "version": "3.6.2"
  }
 },
 "nbformat": 4,
 "nbformat_minor": 2
}
